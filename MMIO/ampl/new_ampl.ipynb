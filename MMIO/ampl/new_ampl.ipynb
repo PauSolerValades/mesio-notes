{
 "cells": [
  {
   "cell_type": "code",
   "execution_count": 1,
   "metadata": {},
   "outputs": [
    {
     "name": "stdout",
     "output_type": "stream",
     "text": [
      "AMPL Development Version 20240606 (Darwin-21.6.0, 64-bit)\n",
      "Demo license with maintenance expiring 20260131.\n",
      "Using license file \"/Users/pausolervalades/.pyenv/versions/3.11.9/envs/ampl/lib/python3.11/site-packages/ampl_module_base/bin/ampl.lic\".\n",
      "\n"
     ]
    }
   ],
   "source": [
    "from amplpy import AMPL, ampl_notebook\n",
    "\n",
    "ampl = ampl_notebook(\n",
    "    modules=[\"highs\"],  # modules to install\n",
    "    license_uuid=\"default\",  # license to use\n",
    ")  # instantiate AMPL object and register magics"
   ]
  },
  {
   "cell_type": "code",
   "execution_count": 2,
   "metadata": {},
   "outputs": [],
   "source": [
    "%%ampl_eval\n",
    "reset;\n",
    "param n integer > 0; # N-queens\n",
    "var Row {1..n} integer >= 1 <= n;\n",
    "s.t. row_attacks: alldiff ({j in 1..n} Row[j]);\n",
    "s.t. diag_attacks: alldiff ({j in 1..n} Row[j]+j);\n",
    "s.t. rdiag_attacks: alldiff ({j in 1..n} Row[j]-j);"
   ]
  },
  {
   "cell_type": "code",
   "execution_count": 4,
   "metadata": {},
   "outputs": [
    {
     "name": "stdout",
     "output_type": "stream",
     "text": [
      "HiGHS 1.7.1:   tech:outlev = 0\n",
      "HiGHS 1.7.1: optimal solution\n",
      "55932 simplex iterations\n",
      "665 branching nodes\n",
      "Objective = find a feasible point.\n",
      "Solution\n",
      " +  +  +  +  +  +  +  +  +  +  +  +  +  +  +  +  +  +  +  +  +  +  +  +  +  +  +  +  +  Q  +  +  +  +  +  +  +  +  +  + \n",
      " +  +  +  +  +  +  +  +  +  +  +  Q  +  +  +  +  +  +  +  +  +  +  +  +  +  +  +  +  +  +  +  +  +  +  +  +  +  +  +  + \n",
      " +  +  +  +  +  +  +  +  +  +  +  +  +  +  +  +  +  +  +  +  +  +  +  +  +  Q  +  +  +  +  +  +  +  +  +  +  +  +  +  + \n",
      " +  +  +  +  +  +  +  +  +  +  +  +  Q  +  +  +  +  +  +  +  +  +  +  +  +  +  +  +  +  +  +  +  +  +  +  +  +  +  +  + \n",
      " +  +  +  +  +  +  +  +  +  +  +  +  +  +  +  +  +  +  +  +  +  +  Q  +  +  +  +  +  +  +  +  +  +  +  +  +  +  +  +  + \n",
      " +  +  +  +  +  +  Q  +  +  +  +  +  +  +  +  +  +  +  +  +  +  +  +  +  +  +  +  +  +  +  +  +  +  +  +  +  +  +  +  + \n",
      " +  +  +  +  +  +  +  +  +  +  +  +  +  +  Q  +  +  +  +  +  +  +  +  +  +  +  +  +  +  +  +  +  +  +  +  +  +  +  +  + \n",
      " +  +  +  +  +  +  +  +  +  +  +  +  +  +  +  +  +  +  +  +  +  +  +  +  +  +  +  +  Q  +  +  +  +  +  +  +  +  +  +  + \n",
      " +  +  +  +  +  +  +  +  +  +  +  +  +  +  +  +  +  +  +  +  Q  +  +  +  +  +  +  +  +  +  +  +  +  +  +  +  +  +  +  + \n",
      " +  +  +  +  +  +  +  +  +  +  +  +  +  Q  +  +  +  +  +  +  +  +  +  +  +  +  +  +  +  +  +  +  +  +  +  +  +  +  +  + \n",
      " +  +  +  +  +  +  +  +  Q  +  +  +  +  +  +  +  +  +  +  +  +  +  +  +  +  +  +  +  +  +  +  +  +  +  +  +  +  +  +  + \n",
      " +  +  +  +  +  +  +  +  +  +  +  +  +  +  +  +  +  +  +  +  +  +  +  +  +  +  +  +  +  +  +  +  +  Q  +  +  +  +  +  + \n",
      " +  +  +  +  +  Q  +  +  +  +  +  +  +  +  +  +  +  +  +  +  +  +  +  +  +  +  +  +  +  +  +  +  +  +  +  +  +  +  +  + \n",
      " +  +  +  +  +  +  +  +  +  +  +  +  +  +  +  +  +  +  +  +  +  +  +  +  Q  +  +  +  +  +  +  +  +  +  +  +  +  +  +  + \n",
      " +  +  Q  +  +  +  +  +  +  +  +  +  +  +  +  +  +  +  +  +  +  +  +  +  +  +  +  +  +  +  +  +  +  +  +  +  +  +  +  + \n",
      " +  +  +  +  +  +  +  +  +  +  +  +  +  +  +  +  +  +  +  +  +  +  +  +  +  +  +  +  +  +  +  +  +  +  +  +  +  +  +  Q \n",
      " +  +  +  +  +  +  +  +  +  +  +  +  +  +  +  +  +  +  Q  +  +  +  +  +  +  +  +  +  +  +  +  +  +  +  +  +  +  +  +  + \n",
      " +  +  +  +  +  +  +  +  +  +  +  +  +  +  +  +  +  +  +  +  +  +  +  +  +  +  +  +  +  +  +  Q  +  +  +  +  +  +  +  + \n",
      " +  +  +  +  +  +  +  +  +  +  +  +  +  +  +  +  +  +  +  +  +  +  +  +  +  +  +  +  +  +  +  +  +  +  +  +  +  +  Q  + \n",
      " +  +  +  +  Q  +  +  +  +  +  +  +  +  +  +  +  +  +  +  +  +  +  +  +  +  +  +  +  +  +  +  +  +  +  +  +  +  +  +  + \n",
      " +  +  +  +  +  +  +  +  +  +  Q  +  +  +  +  +  +  +  +  +  +  +  +  +  +  +  +  +  +  +  +  +  +  +  +  +  +  +  +  + \n",
      " +  +  +  +  +  +  +  +  +  +  +  +  +  +  +  +  +  Q  +  +  +  +  +  +  +  +  +  +  +  +  +  +  +  +  +  +  +  +  +  + \n",
      " +  +  +  +  +  +  +  +  +  +  +  +  +  +  +  +  +  +  +  +  +  +  +  +  +  +  +  Q  +  +  +  +  +  +  +  +  +  +  +  + \n",
      " +  +  +  +  +  +  +  +  +  Q  +  +  +  +  +  +  +  +  +  +  +  +  +  +  +  +  +  +  +  +  +  +  +  +  +  +  +  +  +  + \n",
      " +  +  +  +  +  +  +  +  +  +  +  +  +  +  +  Q  +  +  +  +  +  +  +  +  +  +  +  +  +  +  +  +  +  +  +  +  +  +  +  + \n",
      " +  +  +  +  +  +  +  +  +  +  +  +  +  +  +  +  +  +  +  +  +  +  +  +  +  +  +  +  +  +  +  +  Q  +  +  +  +  +  +  + \n",
      " +  +  +  +  +  +  +  +  +  +  +  +  +  +  +  +  +  +  +  +  +  +  +  +  +  +  Q  +  +  +  +  +  +  +  +  +  +  +  +  + \n",
      " +  +  +  +  +  +  +  +  +  +  +  +  +  +  +  +  +  +  +  Q  +  +  +  +  +  +  +  +  +  +  +  +  +  +  +  +  +  +  +  + \n",
      " +  +  +  +  +  +  +  +  +  +  +  +  +  +  +  +  +  +  +  +  +  +  +  Q  +  +  +  +  +  +  +  +  +  +  +  +  +  +  +  + \n",
      " +  +  +  +  +  +  +  Q  +  +  +  +  +  +  +  +  +  +  +  +  +  +  +  +  +  +  +  +  +  +  +  +  +  +  +  +  +  +  +  + \n",
      " +  Q  +  +  +  +  +  +  +  +  +  +  +  +  +  +  +  +  +  +  +  +  +  +  +  +  +  +  +  +  +  +  +  +  +  +  +  +  +  + \n",
      " +  +  +  +  +  +  +  +  +  +  +  +  +  +  +  +  +  +  +  +  +  +  +  +  +  +  +  +  +  +  +  +  +  +  +  +  +  Q  +  + \n",
      " +  +  +  +  +  +  +  +  +  +  +  +  +  +  +  +  +  +  +  +  +  +  +  +  +  +  +  +  +  +  +  +  +  +  +  Q  +  +  +  + \n",
      " Q  +  +  +  +  +  +  +  +  +  +  +  +  +  +  +  +  +  +  +  +  +  +  +  +  +  +  +  +  +  +  +  +  +  +  +  +  +  +  + \n",
      " +  +  +  +  +  +  +  +  +  +  +  +  +  +  +  +  Q  +  +  +  +  +  +  +  +  +  +  +  +  +  +  +  +  +  +  +  +  +  +  + \n",
      " +  +  +  +  +  +  +  +  +  +  +  +  +  +  +  +  +  +  +  +  +  +  +  +  +  +  +  +  +  +  +  +  +  +  Q  +  +  +  +  + \n",
      " +  +  +  +  +  +  +  +  +  +  +  +  +  +  +  +  +  +  +  +  +  +  +  +  +  +  +  +  +  +  Q  +  +  +  +  +  +  +  +  + \n",
      " +  +  +  Q  +  +  +  +  +  +  +  +  +  +  +  +  +  +  +  +  +  +  +  +  +  +  +  +  +  +  +  +  +  +  +  +  +  +  +  + \n",
      " +  +  +  +  +  +  +  +  +  +  +  +  +  +  +  +  +  +  +  +  +  Q  +  +  +  +  +  +  +  +  +  +  +  +  +  +  +  +  +  + \n",
      " +  +  +  +  +  +  +  +  +  +  +  +  +  +  +  +  +  +  +  +  +  +  +  +  +  +  +  +  +  +  +  +  +  +  +  +  Q  +  +  + \n"
     ]
    }
   ],
   "source": [
    "n = 40\n",
    "ampl.param[\"n\"] = n\n",
    "ampl.option[\"solver\"] = \"highs\"\n",
    "ampl.option[\"highs_options\"] = \"outlev=0\"\n",
    "ampl.solve()\n",
    "solution = ampl.get_data(\"Row\").to_dict()\n",
    "queens = set((int(r) - 1, int(c) - 1) for c, r in solution.items())\n",
    "print(\"Solution\")\n",
    "for r in range(n):\n",
    "    print(\"\".join([\" Q \" if (r, c) in queens else \" + \" for c in range(n)]))\n"
   ]
  }
 ],
 "metadata": {
  "kernelspec": {
   "display_name": "ampl",
   "language": "python",
   "name": "python3"
  },
  "language_info": {
   "codemirror_mode": {
    "name": "ipython",
    "version": 3
   },
   "file_extension": ".py",
   "mimetype": "text/x-python",
   "name": "python",
   "nbconvert_exporter": "python",
   "pygments_lexer": "ipython3",
   "version": "3.11.9"
  }
 },
 "nbformat": 4,
 "nbformat_minor": 2
}
