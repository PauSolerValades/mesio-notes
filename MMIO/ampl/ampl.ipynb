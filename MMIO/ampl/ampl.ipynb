{
 "cells": [
  {
   "cell_type": "code",
   "execution_count": 7,
   "metadata": {},
   "outputs": [],
   "source": [
    "from amplpy import AMPL\n"
   ]
  },
  {
   "cell_type": "code",
   "execution_count": 9,
   "metadata": {},
   "outputs": [
    {
     "name": "stdout",
     "output_type": "stream",
     "text": [
      "Gurobi 11.0.3: Set parameter LogToConsole to value 1\n",
      "  tech:outlev = 1\n",
      "Set parameter InfUnbdInfo to value 1\n",
      "Gurobi Optimizer version 11.0.3 build v11.0.3rc0 (mac64[arm] - Darwin 23.4.0 23E224)\n",
      "\n",
      "CPU model: Apple M2 Pro\n",
      "Thread count: 12 physical cores, 12 logical processors, using up to 12 threads\n",
      "\n",
      "Optimize a model with 2 rows, 3 columns and 6 nonzeros\n",
      "Model fingerprint: 0x8a23cbd2\n",
      "Coefficient statistics:\n",
      "  Matrix range     [1e+00, 4e+00]\n",
      "  Objective range  [2e+01, 4e+01]\n",
      "  Bounds range     [0e+00, 0e+00]\n",
      "  RHS range        [5e+01, 1e+02]\n",
      "Presolve time: 0.00s\n",
      "Presolved: 2 rows, 3 columns, 6 nonzeros\n",
      "\n",
      "Iteration    Objective       Primal Inf.    Dual Inf.      Time\n",
      "       0    1.1000000e+32   4.500000e+30   1.100000e+02      0s\n",
      "       2    1.0000000e+03   0.000000e+00   0.000000e+00      0s\n",
      "\n",
      "Solved in 2 iterations and 0.00 seconds (0.00 work units)\n",
      "Optimal objective  1.000000000e+03\n",
      "Gurobi 11.0.3: optimal solution; objective 1000\n",
      "2 simplex iterations\n"
     ]
    },
    {
     "ename": "TypeError",
     "evalue": "The expression does not evaluate to a value.",
     "output_type": "error",
     "traceback": [
      "\u001b[0;31m---------------------------------------------------------------------------\u001b[0m",
      "\u001b[0;31mTypeError\u001b[0m                                 Traceback (most recent call last)",
      "Cell \u001b[0;32mIn[9], line 36\u001b[0m\n\u001b[1;32m     33\u001b[0m \u001b[38;5;28;01massert\u001b[39;00m ampl\u001b[38;5;241m.\u001b[39msolve_result \u001b[38;5;241m==\u001b[39m \u001b[38;5;124m\"\u001b[39m\u001b[38;5;124msolved\u001b[39m\u001b[38;5;124m\"\u001b[39m\n\u001b[1;32m     35\u001b[0m \u001b[38;5;66;03m# Calculate and print the volatility\u001b[39;00m\n\u001b[0;32m---> 36\u001b[0m sigma \u001b[38;5;241m=\u001b[39m \u001b[43mampl\u001b[49m\u001b[38;5;241;43m.\u001b[39;49m\u001b[43mget_value\u001b[49m\u001b[43m(\u001b[49m\u001b[38;5;124;43m\"\u001b[39;49m\u001b[38;5;124;43msqrt(sum \u001b[39;49m\u001b[38;5;124;43m{\u001b[39;49m\u001b[38;5;124;43mi in A, j in A} w[i] * S[i, j] * w[j])\u001b[39;49m\u001b[38;5;124;43m\"\u001b[39;49m\u001b[43m)\u001b[49m\n\u001b[1;32m     37\u001b[0m \u001b[38;5;28mprint\u001b[39m(\u001b[38;5;124mf\u001b[39m\u001b[38;5;124m\"\u001b[39m\u001b[38;5;124mVolatility: \u001b[39m\u001b[38;5;132;01m{\u001b[39;00msigma\u001b[38;5;241m*\u001b[39m\u001b[38;5;241m100\u001b[39m\u001b[38;5;132;01m:\u001b[39;00m\u001b[38;5;124m.1f\u001b[39m\u001b[38;5;132;01m}\u001b[39;00m\u001b[38;5;124m%\u001b[39m\u001b[38;5;124m\"\u001b[39m)\n",
      "File \u001b[0;32m~/.pyenv/versions/ampl/lib/python3.11/site-packages/amplpy/ampl.py:457\u001b[0m, in \u001b[0;36mAMPL.get_value\u001b[0;34m(self, scalar_expression)\u001b[0m\n\u001b[1;32m    445\u001b[0m \u001b[38;5;28;01mdef\u001b[39;00m \u001b[38;5;21mget_value\u001b[39m(\u001b[38;5;28mself\u001b[39m, scalar_expression):\n\u001b[1;32m    446\u001b[0m \u001b[38;5;250m    \u001b[39m\u001b[38;5;124;03m\"\"\"\u001b[39;00m\n\u001b[1;32m    447\u001b[0m \u001b[38;5;124;03m    Get a scalar value from the underlying AMPL interpreter, as a double or\u001b[39;00m\n\u001b[1;32m    448\u001b[0m \u001b[38;5;124;03m    a string.\u001b[39;00m\n\u001b[0;32m   (...)\u001b[0m\n\u001b[1;32m    455\u001b[0m \u001b[38;5;124;03m        The value of the expression.\u001b[39;00m\n\u001b[1;32m    456\u001b[0m \u001b[38;5;124;03m    \"\"\"\u001b[39;00m\n\u001b[0;32m--> 457\u001b[0m     \u001b[38;5;28;01mreturn\u001b[39;00m \u001b[38;5;28mself\u001b[39m\u001b[38;5;241m.\u001b[39m_impl\u001b[38;5;241m.\u001b[39mgetValue(scalar_expression)\n",
      "\u001b[0;31mTypeError\u001b[0m: The expression does not evaluate to a value."
     ]
    }
   ],
   "source": [
    "ampl = AMPL()\n",
    "# Define the parameters for the AMPL model\n",
    "ampl.eval(r\"\"\"\n",
    "    set PRODUCTS;\n",
    "    set RESOURCES;\n",
    "\n",
    "    param profit{PRODUCTS} >= 0;\n",
    "    param resources_requirements{PRODUCTS, RESOURCES} >= 0;\n",
    "    param max_resource{RESOURCES} >= 0;\n",
    "\n",
    "    var X {PRODUCTS} >= 0;\n",
    "\n",
    "    maximize total:\n",
    "        sum {i in PRODUCTS} (profit[i] * X[i]);\n",
    "\n",
    "    subject to resource_availability {j in RESOURCES}:\n",
    "        sum {i in PRODUCTS} (resources_requirements[i, j] * X[i]) <= max_resource[j];\n",
    "\"\"\")\n",
    "\n",
    "# Define the sets\n",
    "ampl.set[\"PRODUCTS\"] = [\"A\", \"B\", \"C\"]\n",
    "ampl.set[\"RESOURCES\"] = [\"R1\", \"R2\"]\n",
    "\n",
    "# Define the parameters\n",
    "ampl.param[\"profit\"] = {\"A\": 20, \"B\": 30, \"C\": 40}\n",
    "ampl.param[\"resources_requirements\"] = {(\"A\", \"R1\"): 2, (\"A\", \"R2\"): 1, (\"B\", \"R1\"): 3, (\"B\", \"R2\"): 2, (\"C\", \"R1\"): 4, (\"C\", \"R2\"): 3}\n",
    "ampl.param[\"max_resource\"] = {\"R1\": 100, \"R2\": 50}\n",
    "\n",
    "# Solve the problem\n",
    "ampl.solve(solver=\"gurobi\", gurobi_options=\"outlev=1\")\n",
    "\n",
    "# Check if the solution is solved\n",
    "assert ampl.solve_result == \"solved\"\n",
    "\n",
    "# Calculate and print the volatility\n",
    "sigma = ampl.get_value(\"sqrt(sum {i in A, j in A} w[i] * S[i, j] * w[j])\")\n",
    "print(f\"Volatility: {sigma*100:.1f}%\")\n"
   ]
  },
  {
   "cell_type": "code",
   "execution_count": 8,
   "metadata": {},
   "outputs": [
    {
     "name": "stdout",
     "output_type": "stream",
     "text": [
      "hello\n"
     ]
    }
   ],
   "source": [
    "print(\"hello\")"
   ]
  },
  {
   "cell_type": "code",
   "execution_count": null,
   "metadata": {},
   "outputs": [],
   "source": []
  }
 ],
 "metadata": {
  "kernelspec": {
   "display_name": "ampl",
   "language": "python",
   "name": "python3"
  },
  "language_info": {
   "codemirror_mode": {
    "name": "ipython",
    "version": 3
   },
   "file_extension": ".py",
   "mimetype": "text/x-python",
   "name": "python",
   "nbconvert_exporter": "python",
   "pygments_lexer": "ipython3",
   "version": "3.11.9"
  }
 },
 "nbformat": 4,
 "nbformat_minor": 2
}
